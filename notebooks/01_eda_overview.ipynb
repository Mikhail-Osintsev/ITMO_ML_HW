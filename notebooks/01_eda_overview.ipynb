{
 "cells": [
  {
   "cell_type": "code",
   "execution_count": null,
   "id": "bb0477de",
   "metadata": {},
   "outputs": [],
   "source": [
    "import numpy as np\n",
    "import pandas as pd\n",
    "import plotly.express as px\n",
    "import seaborn as sns\n",
    "import matplotlib.pyplot as plt\n",
    "\n",
    "import warnings\n",
    "warnings.simplefilter(\"ignore\")"
   ]
  },
  {
   "cell_type": "markdown",
   "id": "d9b89f65",
   "metadata": {},
   "source": [
    "## Загружаем данные"
   ]
  },
  {
   "cell_type": "code",
   "execution_count": null,
   "id": "d3e64a2b",
   "metadata": {},
   "outputs": [],
   "source": [
    "rides_info = pd.read_csv(\"../data/raw/rides_info.csv\")\n",
    "cars = pd.read_csv(\"../data/raw/car_train.csv\")\n",
    "driver_info = pd.read_csv(\"../data/raw/driver_info.csv\")\n",
    "\n",
    "\n"
   ]
  },
  {
   "cell_type": "markdown",
   "id": "47e37009",
   "metadata": {},
   "source": [
    "## Ознакомимся с данными"
   ]
  },
  {
   "cell_type": "code",
   "execution_count": null,
   "id": "a1e290f7",
   "metadata": {},
   "outputs": [],
   "source": [
    "rides_info.head(5)"
   ]
  },
  {
   "cell_type": "code",
   "execution_count": null,
   "id": "fd191c42",
   "metadata": {},
   "outputs": [],
   "source": [
    "rides_info.info()"
   ]
  },
  {
   "cell_type": "markdown",
   "id": "49e58faf",
   "metadata": {},
   "source": [
    "Наблюдение\n",
    "- всего в датафрейме 739500 строк\n",
    "- в столбцах speed_max и user_ride_quality есть пропуски (nan)\n",
    "- объем занимаемый датафреймом 79.0+ MB"
   ]
  },
  {
   "cell_type": "code",
   "execution_count": null,
   "id": "43620965",
   "metadata": {},
   "outputs": [],
   "source": [
    "rides_info.describe().round(2)"
   ]
  },
  {
   "cell_type": "markdown",
   "id": "022d0ae0",
   "metadata": {},
   "source": [
    "Наблюдение\n",
    "- средняя скорость движения по маршруту по всем поездкам около 47, а максимальная средняя скорость 100. Вероятно, этот столбец имеет размерность км/час\n",
    "- как минимум в половине случаев во время поездки была одна остановка\n",
    "- максимальный рейтинг  10, минимум 0. Более половины всех рейтингов с оценками от 3 до 6"
   ]
  },
  {
   "cell_type": "code",
   "execution_count": null,
   "id": "b705fdd8",
   "metadata": {},
   "outputs": [],
   "source": [
    "rides_info.describe(include='object')"
   ]
  },
  {
   "cell_type": "code",
   "execution_count": null,
   "id": "a625d0ba",
   "metadata": {},
   "outputs": [],
   "source": [
    "rides_info.ride_id.value_counts()[:5]"
   ]
  },
  {
   "cell_type": "markdown",
   "id": "020b157b",
   "metadata": {},
   "source": [
    "Наблюдение\n",
    "- самый часто встречающийся код маршрута H1v и E1y, имеют по 34 поездки"
   ]
  },
  {
   "cell_type": "code",
   "execution_count": null,
   "id": "855d68f4",
   "metadata": {},
   "outputs": [],
   "source": [
    "rides_info.rating.value_counts(bins=4)"
   ]
  },
  {
   "cell_type": "markdown",
   "id": "7b170d6b",
   "metadata": {},
   "source": [
    "Наблюдение\n",
    "- 50%  поездок с рейтингом ниже 2.5 и выше 5"
   ]
  },
  {
   "cell_type": "code",
   "execution_count": null,
   "id": "fe001a1a",
   "metadata": {},
   "outputs": [],
   "source": [
    "rides_info.hist(figsize=(20, 15), layout=(-1, 5));"
   ]
  },
  {
   "cell_type": "markdown",
   "id": "1357d55b",
   "metadata": {},
   "source": [
    "Делаем выводы о распределении фичей и понимает как именно будем скейлить данные в препроцессинге"
   ]
  },
  {
   "cell_type": "markdown",
   "id": "93f33d29",
   "metadata": {},
   "source": [
    "Присоединим другие таблицы, чтобы поисследовать относительно таргета"
   ]
  },
  {
   "cell_type": "code",
   "execution_count": null,
   "id": "11f90d24",
   "metadata": {},
   "outputs": [],
   "source": [
    "rides_info = rides_info.merge(cars, on=\"car_id\", how=\"right\")\n",
    "rides_info = rides_info.merge(driver_info, on=\"user_id\", how=\"left\")"
   ]
  },
  {
   "cell_type": "code",
   "execution_count": null,
   "id": "68863d80",
   "metadata": {},
   "outputs": [],
   "source": [
    "rides_info.boxplot(\n",
    "    column=[\"user_rating\"], by=\"target_class\", fontsize=8, figsize=(20, 5)\n",
    ");"
   ]
  },
  {
   "cell_type": "code",
   "execution_count": null,
   "id": "5786287e",
   "metadata": {},
   "outputs": [],
   "source": [
    "fig = px.violin(\n",
    "    rides_info,\n",
    "    x=\"target_class\",      # категории (тип поломки)\n",
    "    y=\"user_rating\",       # числовая переменная\n",
    "    box=True,              # добавить boxplot внутрь скрипки       \n",
    "    color=\"target_class\",  # окрасить по классам\n",
    "    hover_data=rides_info.columns  # показывать доп. инфо при наведении\n",
    ")\n",
    "\n",
    "fig.update_layout(\n",
    "    title=\"Распределение рейтинга водителей по типу поломки\",\n",
    "    xaxis_title=\"Тип поломки (target_class)\",\n",
    "    yaxis_title=\"Рейтинг водителя (user_rating)\",\n",
    "    showlegend=False,\n",
    "    width=1200,\n",
    "    height=500\n",
    ")\n",
    "\n",
    "fig.show()"
   ]
  },
  {
   "cell_type": "markdown",
   "id": "2bf78778",
   "metadata": {},
   "source": [
    "- Медианы близки (≈7.8–8.2 для всех классов).\n",
    "- Рейтинг водителя слабый предиктор типа поломки сам по себе.\n",
    "- engine_ignition / engine_overheat — более широкие “скрипки” и длинные нижние хвосты (больше наблюдений с рейтингом <7).Для этих поломок чаще встречаются водители с низкими оценками → возможная связь с манерой вождения."
   ]
  },
  {
   "cell_type": "code",
   "execution_count": null,
   "id": "ef757ddf",
   "metadata": {},
   "outputs": [],
   "source": [
    "# Корреляционная матрица\n",
    "corr_matrix = rides_info.select_dtypes(include='number').corr()\n",
    "\n",
    "# Верхний треугольник (чтобы не дублировалось)\n",
    "mask = np.triu(np.ones_like(corr_matrix, dtype=bool))\n",
    "\n",
    "# Размер и стиль\n",
    "plt.figure(figsize=(14, 10))\n",
    "sns.set_theme(style=\"white\")\n",
    "\n",
    "# Рисуем heatmap\n",
    "sns.heatmap(\n",
    "    corr_matrix,\n",
    "    mask=mask,                  # скрыть верхний треугольник\n",
    "    cmap=\"coolwarm\",            # цветовая палитра\n",
    "    annot=True,                 # показать значения\n",
    "    fmt=\".2f\",                  # округление\n",
    "    linewidths=0.5,             # разделительные линии\n",
    "    cbar_kws={\"shrink\": .8},    # уменьшить colorbar\n",
    "    square=True,                # клетки квадратные\n",
    "    annot_kws={\"size\": 8}       # размер текста\n",
    ")\n",
    "\n",
    "# Настройки подписей\n",
    "plt.title(\"Корреляционная матрица числовых признаков\", fontsize=16, pad=20)\n",
    "plt.xticks(rotation=45, ha='right')\n",
    "plt.yticks(rotation=0)\n",
    "\n",
    "plt.tight_layout()\n",
    "plt.show()"
   ]
  },
  {
   "cell_type": "markdown",
   "id": "3ca1584a",
   "metadata": {},
   "source": [
    "Наблюдение:\n",
    "- Сильная положительная корреляция между ride_cost, ride_duration и distance (до 0.9–0.96)  чем длиннее и дольше поездка, тем выше её стоимость.\n",
    "- Почти полная корреляция между riders и year_to_start (0.99) показывает, что старшие по возрасту автомобили накопили больше поездок \n",
    " эти признаки частично дублируют друг друга.\n",
    "- Остальные признаки имеют слабую взаимосвязь , что говорит о низкой мультиколлинеарности и потенциальной ценности для модели.\n",
    "- Заметна умеренная отрицательная корреляция между user_rating и sex (−0.76), что может указывать на различия в оценках водителей по полу  требует проверки."
   ]
  },
  {
   "cell_type": "code",
   "execution_count": null,
   "id": "8807ddab",
   "metadata": {},
   "outputs": [],
   "source": [
    "g = sns.relplot(\n",
    "    data=rides_info,\n",
    "    x=\"ride_date\",\n",
    "    y=\"deviation_normal\",\n",
    "    hue=\"target_class\",\n",
    "    kind=\"line\",  # или scatter\n",
    "    aspect=4,\n",
    ")\n",
    "\n",
    "g.set_xticklabels(rotation=45, horizontalalignment=\"right\", step=2);"
   ]
  },
  {
   "cell_type": "markdown",
   "id": "a9254883",
   "metadata": {},
   "source": [
    "Признак deviation_normal потенциально информативен — его динамика отличается в зависимости от типа поломки (target_class).\n",
    "Следовательно, его изменение или рост может быть предиктором (feature) в модели прогнозирования типа поломки."
   ]
  },
  {
   "cell_type": "markdown",
   "id": "c2c1c739",
   "metadata": {},
   "source": [
    "#TODO Возможно стоит сделать фичу типа изменение во времени этой фичи - типа производная "
   ]
  },
  {
   "cell_type": "code",
   "execution_count": null,
   "id": "e8376356",
   "metadata": {},
   "outputs": [],
   "source": [
    "g = sns.relplot(\n",
    "    data=rides_info,\n",
    "    x=\"ride_date\",\n",
    "    y=\"user_ride_quality\",\n",
    "    kind=\"line\",\n",
    "    hue=\"target_class\",\n",
    "    aspect=4,\n",
    ")\n",
    "\n",
    "g.set_xticklabels(rotation=45, horizontalalignment=\"right\", step=2);"
   ]
  },
  {
   "cell_type": "markdown",
   "id": "bde846df",
   "metadata": {},
   "source": [
    "- Тренд по типам поломок различается.\n",
    "Например, зелёная линия (gear_stick) и синяя (another_bug) лежат выше других → это значит, что водители этих машин ездили спокойнее (высокое качество вождения).\n",
    "- Некоторые типы поломок (“engine_fuel”, “engine_ignition”, “engine_overheat”) находятся ниже,\n",
    "что говорит о более агрессивной манере езды или нестабильных скоринговых показателях у водителей таких машин.\n",
    "\n",
    "Тип манеры вождения (user_ride_quality) статистически различается между группами поломок.\n",
    "Более агрессивная езда (низкий user_ride_quality) чаще наблюдается у машин с поломками двигателя и перегревом.\n",
    "Это подтверждает гипотезу, что стиль вождения может служить ранним предиктором технических неисправностей."
   ]
  },
  {
   "cell_type": "code",
   "execution_count": null,
   "id": "07e45ef8",
   "metadata": {},
   "outputs": [],
   "source": [
    "g = sns.relplot(\n",
    "    data=rides_info,\n",
    "    x=\"ride_duration\",\n",
    "    y=\"ride_cost\",\n",
    "    hue=\"target_class\",\n",
    "    \n",
    "    kind=\"scatter\",\n",
    "    aspect=4,\n",
    "    alpha=0.5,\n",
    ");"
   ]
  },
  {
   "cell_type": "markdown",
   "id": "7535be7c",
   "metadata": {},
   "source": [
    "Возможно feature = ride_cost/ride_duration - это отличный доп.признак"
   ]
  },
  {
   "cell_type": "markdown",
   "id": "688d6ba4",
   "metadata": {},
   "source": [
    "Посмотрим на распределение таргета"
   ]
  },
  {
   "cell_type": "code",
   "execution_count": null,
   "id": "bdbd7e31",
   "metadata": {},
   "outputs": [],
   "source": [
    "ax = sns.countplot(data=rides_info, y='target_class', order=rides_info['target_class'].value_counts().index)\n",
    "ax.set_title('Class balance'); plt.show()\n",
    "\n",
    "\n"
   ]
  },
  {
   "cell_type": "markdown",
   "id": "62387579",
   "metadata": {},
   "source": [
    "Видим, что есть дисбаланс и надо это учитывать"
   ]
  },
  {
   "cell_type": "markdown",
   "id": "de90a86c",
   "metadata": {},
   "source": [
    "Посмторим также реграссионный таргет и попробуем его выпрямить логарифмом"
   ]
  },
  {
   "cell_type": "code",
   "execution_count": null,
   "id": "6b92d090",
   "metadata": {},
   "outputs": [],
   "source": [
    "fig, axes = plt.subplots(1,2, figsize=(12,4))\n",
    "sns.histplot(rides_info['target_reg'], ax=axes[0], bins=50)\n",
    "sns.histplot(np.log1p(rides_info['target_reg']), ax=axes[1], bins=50)\n",
    "axes[0].set_title('target_reg'); axes[1].set_title('log1p(target_reg)');"
   ]
  },
  {
   "cell_type": "code",
   "execution_count": null,
   "id": "a9e6fbf1",
   "metadata": {},
   "outputs": [],
   "source": [
    "rides_info[\"ride_date\"] = pd.to_datetime(rides_info[\"ride_date\"], errors=\"coerce\")\n",
    "rides_info[\"tariff\"] = rides_info[\"ride_cost\"] / (rides_info[\"ride_duration\"] + 1e-9)  # простая фича: цена за единицу времени"
   ]
  },
  {
   "cell_type": "code",
   "execution_count": null,
   "id": "b08ea853",
   "metadata": {},
   "outputs": [],
   "source": [
    "plt.figure(figsize=(12,4))\n",
    "sns.boxplot(data=rides_info, x=\"target_class\", y=\"deviation_normal\")\n",
    "plt.xticks(rotation=30, ha=\"right\")\n",
    "plt.title(\"deviation_normal по target_class\")\n",
    "plt.show()"
   ]
  },
  {
   "cell_type": "markdown",
   "id": "7718a3d1",
   "metadata": {},
   "source": [
    "Видим что в среднем при всех поломках отклонение от нормы одинаковое и много выбросов"
   ]
  },
  {
   "cell_type": "code",
   "execution_count": null,
   "id": "4b46d697",
   "metadata": {},
   "outputs": [],
   "source": [
    "plt.figure(figsize=(6,5))\n",
    "sns.scatterplot(data=rides_info.sample(5000, random_state=42), x=\"speed_avg\", y=\"speed_max\", alpha=0.4)\n",
    "plt.title(\"speed_max vs speed_avg (сэмпл 5k)\")\n",
    "plt.show()"
   ]
  },
  {
   "cell_type": "code",
   "execution_count": null,
   "id": "1d557b7c",
   "metadata": {},
   "outputs": [],
   "source": [
    "ct = pd.crosstab(rides_info[\"car_type\"], rides_info[\"target_class\"])\n",
    "plt.figure(figsize=(10,6))\n",
    "sns.heatmap(ct, annot=False, cmap=\"Blues\")\n",
    "plt.title(\"car_type × target_class (частоты)\")\n",
    "plt.show()"
   ]
  },
  {
   "cell_type": "markdown",
   "id": "06e63dc1",
   "metadata": {},
   "source": [
    "Большинство поломок приходится на автомобили класса economy — вероятно, из-за высокой нагрузки и интенсивного использования.\n",
    "Машины классов business и premium ломаются заметно реже"
   ]
  },
  {
   "cell_type": "code",
   "execution_count": null,
   "id": "081948ed",
   "metadata": {},
   "outputs": [],
   "source": [
    "daily = rides_info.groupby(\"ride_date\", as_index=False)[\"deviation_normal\"].mean()\n",
    "plt.figure(figsize=(12,4))\n",
    "sns.lineplot(data=daily, x=\"ride_date\", y=\"deviation_normal\")\n",
    "plt.title(\"Средний deviation_normal по дням\")\n",
    "plt.show()"
   ]
  },
  {
   "cell_type": "markdown",
   "id": "804fdbb8",
   "metadata": {},
   "source": [
    "Показатель deviation_normal хорошо отражает общий технический тренд автопарка.\n",
    "Видно циклическое ухудшение и восстановление состояния машин, что может соответствовать периодическим ремонтам.\n",
    "Этот признак потенциально полезен для предсказания момента поломки (временные лаги или производные по времени)."
   ]
  },
  {
   "cell_type": "code",
   "execution_count": null,
   "id": "13a6ffc2",
   "metadata": {},
   "outputs": [],
   "source": [
    "rides_info = pd.read_csv(\"../data/raw/rides_info.csv\")\n",
    "print(rides_info.shape)\n",
    "rides_info.hist(figsize=(25, 4), layout=(2, 5), bins=40)\n",
    "rides_info.sample(3)"
   ]
  },
  {
   "cell_type": "code",
   "execution_count": null,
   "id": "44b72038",
   "metadata": {},
   "outputs": [],
   "source": [
    "fix_info = pd.read_csv(\"../data/raw/fix_info.csv\").sort_values('worker_id')\n",
    "print(fix_info.shape)\n",
    "fix_info.hist(figsize=(12, 2))\n",
    "fix_info.sample(3)"
   ]
  },
  {
   "cell_type": "code",
   "execution_count": null,
   "id": "c02b3df2",
   "metadata": {},
   "outputs": [],
   "source": [
    "train = pd.read_csv(\"../data/raw/car_train.csv\")\n",
    "print(train.shape)\n",
    "train.hist(figsize=(25, 4), layout=(2, 5), bins=30)\n",
    "train.sample(3)"
   ]
  },
  {
   "cell_type": "markdown",
   "id": "62c16402",
   "metadata": {},
   "source": [
    "Поисследуем признаки"
   ]
  },
  {
   "cell_type": "code",
   "execution_count": null,
   "id": "1632555b",
   "metadata": {},
   "outputs": [],
   "source": [
    "\n",
    "fix_info_gr = fix_info.groupby(\"car_id\", as_index=False).agg(\n",
    "    \n",
    "    # Все встроенные статистики\n",
    "    worker_count=(\"worker_id\", \"count\"),\n",
    "    work_duration_mean=(\"work_duration\", \"mean\"),\n",
    "    work_duration_max=(\"work_duration\", \"max\"),\n",
    "    destroy_degree_std=(\"destroy_degree\", \"std\"),\n",
    "    destroy_degree_sum=(\"destroy_degree\", \"sum\"))"
   ]
  },
  {
   "cell_type": "code",
   "execution_count": null,
   "id": "5ce5811d",
   "metadata": {},
   "outputs": [],
   "source": [
    "tmp = train.merge(fix_info_gr, on=\"car_id\", how=\"left\")\n",
    "tmp.head(3)"
   ]
  },
  {
   "cell_type": "code",
   "execution_count": null,
   "id": "ed3cfab6",
   "metadata": {},
   "outputs": [],
   "source": [
    "import seaborn as sns\n",
    "\n",
    "g = sns.displot(\n",
    "    data=tmp,\n",
    "    x=\"destroy_degree_sum\",\n",
    "    y=\"riders\",\n",
    "    aspect=2,\n",
    "    kind=\"hist\",\n",
    "    alpha=0.8,\n",
    "    hue=\"target_class\"\n",
    ").set_xticklabels(rotation=45, horizontalalignment=\"right\")"
   ]
  },
  {
   "cell_type": "code",
   "execution_count": null,
   "id": "aa2f5ebc",
   "metadata": {},
   "outputs": [],
   "source": [
    "g = sns.displot(\n",
    "    data=tmp,\n",
    "    x=\"destroy_degree_std\",\n",
    "    y=\"riders\",\n",
    "    aspect=2,\n",
    "    kind=\"hist\",\n",
    "    alpha=0.8,\n",
    "    hue=\"target_class\"\n",
    ").set_xticklabels(rotation=45, horizontalalignment=\"right\");"
   ]
  },
  {
   "cell_type": "markdown",
   "id": "f45f4570",
   "metadata": {},
   "source": [
    "•\tДля части машин наблюдается низкое отклонение (около 2) → поломки однотипные (часто мелкие, повторяющиеся). Вохможно это хорошая фича то есть эта фича хорошо разделяет engine_check\n"
   ]
  },
  {
   "cell_type": "code",
   "execution_count": null,
   "id": "37da65fe",
   "metadata": {},
   "outputs": [],
   "source": [
    "rides_info = pd.read_csv(\"../data/raw/rides_info.csv\")\n",
    "cars = pd.read_csv(\"../data/raw/car_train.csv\")\n",
    "driver_info = pd.read_csv(\"../data/raw/driver_info.csv\")\n",
    "rides_info = rides_info.merge(cars, on=\"car_id\", how=\"right\")\n",
    "rides_info = rides_info.merge(driver_info, on=\"user_id\", how=\"left\")\n",
    "\n",
    "rides_info[\"ride_date\"] = pd.to_datetime(rides_info[\"ride_date\"], errors=\"coerce\")\n",
    "rides_info[\"tariff\"] = rides_info[\"ride_cost\"] / (rides_info[\"ride_duration\"] + 1e-9)  # простая фича: цена за единицу времени"
   ]
  },
  {
   "cell_type": "code",
   "execution_count": null,
   "id": "30aa221f",
   "metadata": {},
   "outputs": [],
   "source": [
    "cols = [\"speed_avg\",\"speed_max\",\"tariff\",\"user_ride_quality\",\"deviation_normal\",\"target_class\"]\n",
    "sns.pairplot(rides_info[cols].dropna().sample(4000, random_state=7), hue=\"target_class\", diag_kind=\"hist\")\n",
    "plt.show()"
   ]
  },
  {
   "cell_type": "markdown",
   "id": "21fa2aeb",
   "metadata": {},
   "source": [
    "В целом не наблюдается мультиколлинеарности"
   ]
  },
  {
   "cell_type": "code",
   "execution_count": null,
   "id": "78a6c17e",
   "metadata": {},
   "outputs": [],
   "source": [
    "sns.displot(rides_info, x=\"target_reg\", col=\"target_class\", col_wrap=3, height=2.7, bins=40)\n",
    "plt.suptitle(\"Распределение времени до поломки по классам\", y=1.02); plt.show()"
   ]
  },
  {
   "cell_type": "markdown",
   "id": "e383a3fb",
   "metadata": {},
   "source": [
    "Для всех типов поломок распределение времени до отказа  имеет ярко выраженный правый хвост: большинство машин ломаются относительно быстро, а случаи с большим временем до поломки встречаются редко. Формы распределений по классам схожи, что говорит о слабой дискриминирующей способности этого признака. Для моделей регрессии целесообразно применить логарифмирование (target_reg) для стабилизации дисперсии и уменьшения влияния выбросов."
   ]
  },
  {
   "cell_type": "code",
   "execution_count": null,
   "id": "8b3feec6",
   "metadata": {},
   "outputs": [],
   "source": [
    "top_models = (train[\"model\"].value_counts().head(10).index)\n",
    "tmp = train[train[\"model\"].isin(top_models)]\n",
    "\n",
    "fig = px.bar(tmp.groupby([\"model\",\"target_class\"]).size().reset_index(name=\"cnt\"),\n",
    "             x=\"model\", y=\"cnt\", color=\"target_class\", barmode=\"stack\",\n",
    "             title=\"Топ-10 моделей × распределение поломок\")\n",
    "fig.show()"
   ]
  },
  {
   "cell_type": "markdown",
   "id": "d1d275a8",
   "metadata": {},
   "source": [
    "Видно, что доли классов engine_check и engine_ignition стабильно высоки для всех моделей, однако у отдельных (например, VW Polo VI) выше доля engine_overheat. Это может указывать на специфику конструкции или условий эксплуатации."
   ]
  },
  {
   "cell_type": "code",
   "execution_count": null,
   "id": "cca5dc25",
   "metadata": {},
   "outputs": [],
   "source": [
    "plt.figure(figsize=(6,5))\n",
    "sns.scatterplot(data=rides_info.sample(8000, random_state=1), x=\"user_time_accident\", y=\"user_ride_quality\", alpha=0.4)\n",
    "plt.title(\"Аварийность vs качество езды\"); plt.show()"
   ]
  },
  {
   "cell_type": "markdown",
   "id": "c19c816b",
   "metadata": {},
   "source": [
    " видна слабая отрицательная связь между числом инцидентов и качеством езды: водители с низкими скоринговыми оценками  чаще имеют больше зафиксированных аварий. Основное облако точек сосредоточено в зоне 0–15 инцидентов. Таким образом, показатель user_ride_quality можно рассматривать как ранний индикатор рискованного стиля вождения, потенциально влияющего на вероятность поломок автомобиля."
   ]
  },
  {
   "cell_type": "code",
   "execution_count": null,
   "id": "aa6d05a2",
   "metadata": {},
   "outputs": [],
   "source": [
    "q = pd.qcut(rides_info[\"deviation_normal\"], q=10)\n",
    "tab = pd.crosstab(q, rides_info[\"target_class\"], normalize=\"index\")\n",
    "plt.figure(figsize=(10,4)); sns.heatmap(tab, cmap=\"mako\"); plt.title(\"Доли классов по бинам deviation_normal\"); plt.show()"
   ]
  },
  {
   "cell_type": "markdown",
   "id": "cd5c5784",
   "metadata": {},
   "source": [
    "Вблизи нулевых значений  выделяется electro_bug — электрические неисправности возникают при стабильных механических характеристиках.\n",
    "При сильных отрицательных отклонениях  чаще встречаются поломки типа break_bug и gear_stick, что указывает на связь этих дефектов с ухудшением общих параметров автомобиля.\n",
    "При положительных и высоких отклонениях  чаще фиксируются engine_ignition и engine_fuel, что может отражать перегрузку двигателя или экстремальные режимы работы."
   ]
  },
  {
   "cell_type": "markdown",
   "id": "24fba147",
   "metadata": {},
   "source": [
    "Таким образом, признак deviation_normal является крайне информативным"
   ]
  },
  {
   "cell_type": "code",
   "execution_count": null,
   "id": "e3e461da",
   "metadata": {},
   "outputs": [],
   "source": [
    "fix_info = pd.read_csv(\"../data/raw/fix_info.csv\")\n",
    "agg = fix_info.groupby(\"work_type\")[\"destroy_degree\"].mean().reset_index()\n",
    "sns.barplot(data=agg, x=\"work_type\", y=\"destroy_degree\")\n",
    "plt.xticks(rotation=20, ha=\"right\"); plt.title(\"Средний износ по типам работ\"); plt.show()"
   ]
  },
  {
   "cell_type": "markdown",
   "id": "c7196533",
   "metadata": {},
   "source": [
    "Наибольшие значения наблюдаются для категории repair, что отражает выполнение ремонта при серьёзных повреждениях.\n",
    "Остальные типы работ связаны с профилактическими или лёгкими вмешательствами (например, заправка, смена масла) и сопровождаются низким уровнем износа."
   ]
  },
  {
   "cell_type": "markdown",
   "id": "2e0e8198",
   "metadata": {},
   "source": []
  }
 ],
 "metadata": {
  "kernelspec": {
   "display_name": "Python (myenv)",
   "language": "python",
   "name": "my_env_mlcourseitmo"
  },
  "language_info": {
   "codemirror_mode": {
    "name": "ipython",
    "version": 3
   },
   "file_extension": ".py",
   "mimetype": "text/x-python",
   "name": "python",
   "nbconvert_exporter": "python",
   "pygments_lexer": "ipython3",
   "version": "3.13.7"
  }
 },
 "nbformat": 4,
 "nbformat_minor": 5
}
