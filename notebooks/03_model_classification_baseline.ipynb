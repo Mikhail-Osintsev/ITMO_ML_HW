{
 "cells": [
  {
   "cell_type": "code",
   "execution_count": 309,
   "id": "d24a191b",
   "metadata": {},
   "outputs": [],
   "source": [
    "RANDOM_STATE = 42\n",
    "\n",
    "import numpy as np\n",
    "import pandas as pd\n",
    "\n",
    "from sklearn.preprocessing import LabelEncoder\n",
    "from sklearn.model_selection import train_test_split\n",
    "from sklearn.compose import ColumnTransformer, make_column_selector as selector\n",
    "from sklearn.pipeline import Pipeline\n",
    "from sklearn.preprocessing import OneHotEncoder, StandardScaler\n",
    "from sklearn.impute import SimpleImputer\n",
    "\n",
    "from sklearn.dummy import DummyClassifier\n",
    "from sklearn.linear_model import LogisticRegression\n",
    "from sklearn.tree import DecisionTreeClassifier\n",
    "from sklearn.neighbors import KNeighborsClassifier\n",
    "from sklearn.ensemble import RandomForestClassifier\n",
    "\n",
    "from sklearn.metrics import f1_score, accuracy_score, classification_report\n",
    "\n",
    "import matplotlib.pyplot as plt\n",
    "import seaborn as sns"
   ]
  },
  {
   "cell_type": "markdown",
   "id": "dd4e8117",
   "metadata": {},
   "source": [
    "## Сначала попробую максимально простой бейзлайн просто на трейновых данных без объединения.\n"
   ]
  },
  {
   "cell_type": "code",
   "execution_count": 310,
   "id": "3a8c1bb7",
   "metadata": {},
   "outputs": [],
   "source": [
    "df = pd.read_csv(\"../data/raw/car_train.csv\")\n",
    "\n",
    "target_col = \"target_class\"        \n",
    "id_col = \"car_id\"                  \n",
    "\n",
    "candidate_cat = [\"model\", \"car_type\", \"fuel_type\"]\n",
    "candidate_num = [\"car_rating\", \"riders\", \"year_to_start\", \"year_to_work\"]\n",
    "\n",
    "\n",
    "\n",
    "cat_cols = [c for c in candidate_cat if c in df.columns]\n",
    "num_cols = [c for c in candidate_num if c in df.columns]\n",
    "\n",
    "\n",
    "\n",
    "X = df.drop(columns=[col for col in [target_col, id_col] if col in df.columns])\n",
    "y = df[target_col].astype(\"category\")\n"
   ]
  },
  {
   "cell_type": "markdown",
   "id": "c9bcd7f1",
   "metadata": {},
   "source": [
    "Обоснование выбора Label Encoding для таргета\n",
    "\n",
    "Для кодирования целевой переменной выбран LabelEncoder, так как он переводит категориальные метки классов в числовой формат, необходимый для обучения моделей. (на самом деле логрег бы справился бы и с кат фичей, ну да ладно)\n",
    "Кодировщик обучается только на тренировочной выборке, чтобы избежать утечки информации.\n",
    "Если в тестовой выборке появятся ранее не встречавшиеся классы, LabelEncoder вызовет ошибку, нам это нормально."
   ]
  },
  {
   "cell_type": "code",
   "execution_count": 311,
   "id": "f6fff49f",
   "metadata": {},
   "outputs": [
    {
     "data": {
      "image/png": "[encoded data removed]",
      "text/plain": [
       "<Figure size 800x1000 with 1 Axes>"
      ]
     },
     "metadata": {},
     "output_type": "display_data"
    }
   ],
   "source": [
    "X_train, X_test, y_train, y_test = train_test_split(\n",
    "    X, y, test_size=0.20, random_state=RANDOM_STATE, stratify=y\n",
    ")\n",
    "\n",
    "le = LabelEncoder()\n",
    "y_train = le.fit_transform(y_train)   # обучаем кодировщик на трейне\n",
    "y_test = le.transform(y_test)         # применяем к тесту \n",
    "\n",
    "train_dist = pd.Series(y_train).value_counts(normalize=True).sort_index()\n",
    "test_dist  = pd.Series(y_test).value_counts(normalize=True).sort_index()\n",
    "\n",
    "# Визуализируем\n",
    "plt.figure(figsize=(8, 10))\n",
    "\n",
    "sns.barplot(\n",
    "    y=train_dist.index.astype(str),\n",
    "    x=train_dist.values,\n",
    "    color='skyblue',\n",
    "    label='train'\n",
    ")\n",
    "\n",
    "sns.barplot(\n",
    "    y=test_dist.index.astype(str),\n",
    "    x=test_dist.values,\n",
    "    color='salmon',\n",
    "    alpha=0.7,\n",
    "    label='test'\n",
    ")\n",
    "\n",
    "plt.title(\"Class distribution (train vs test)\")\n",
    "plt.xlabel(\"Share\")\n",
    "plt.ylabel(\"Class\")\n",
    "plt.legend()\n",
    "plt.tight_layout()\n",
    "plt.show()"
   ]
  },
  {
   "cell_type": "markdown",
   "id": "74393ab4",
   "metadata": {},
   "source": [
    "Разбиение данных выполнено со стратификацией, чтобы сохранить одинаковые пропорции классов в обучающей и тестовой выборках.\n",
    "Судя по графику распределений, доли классов в train и test совпадают."
   ]
  },
  {
   "cell_type": "code",
   "execution_count": 312,
   "id": "a0f4dc08",
   "metadata": {},
   "outputs": [],
   "source": [
    "def evaluate(model, X_tr, y_tr, X_te, y_te, name=\"model\"):\n",
    "    model.fit(X_tr, y_tr)\n",
    "    y_pred = model.predict(X_te)\n",
    "    macro_f1 = f1_score(y_te, y_pred, average=\"macro\", zero_division=0)\n",
    "    acc = accuracy_score(y_te, y_pred)\n",
    "    print(f\"[{name}] macro-F1={macro_f1:.4f} | accuracy={acc:.4f}\")\n",
    "    print(classification_report(y_te, y_pred, digits=3))\n",
    "    return macro_f1, acc"
   ]
  },
  {
   "cell_type": "markdown",
   "id": "7ce5e8e9",
   "metadata": {},
   "source": [
    "Создана вспомогательная функция evaluate(), которая обучает модель, делает предсказания и оценивает её качество.\n",
    "В качестве метрик используются:\n",
    "\t•\tmacro F1-score — усреднение F1 по всем классам без учёта их частоты (важно при дисбалансе классов);\n",
    "\t•\taccuracy — доля правильных предсказаний.\n",
    "\n",
    "Функция также выводит подробный classification_report, чтобы увидеть precision, recall и F1 по каждому классу."
   ]
  },
  {
   "cell_type": "code",
   "execution_count": 313,
   "id": "2210572c",
   "metadata": {},
   "outputs": [
    {
     "name": "stdout",
     "output_type": "stream",
     "text": [
      "[Dummy (stratified)] macro-F1=0.1069 | accuracy=0.1090\n",
      "              precision    recall  f1-score   support\n",
      "\n",
      "           0      0.107     0.107     0.107        56\n",
      "           1      0.123     0.130     0.126        54\n",
      "           2      0.102     0.100     0.101        50\n",
      "           3      0.070     0.074     0.072        54\n",
      "           4      0.118     0.115     0.117        52\n",
      "           5      0.120     0.111     0.115        54\n",
      "           6      0.123     0.121     0.122        58\n",
      "           7      0.151     0.140     0.145        57\n",
      "           8      0.053     0.061     0.056        33\n",
      "\n",
      "    accuracy                          0.109       468\n",
      "   macro avg      0.107     0.107     0.107       468\n",
      "weighted avg      0.110     0.109     0.110       468\n",
      "\n"
     ]
    }
   ],
   "source": [
    "dummy = DummyClassifier(strategy=\"stratified\", random_state=RANDOM_STATE)\n",
    "_ = evaluate(dummy, X_train, y_train, X_test, y_test, name=\"Dummy (stratified)\")"
   ]
  },
  {
   "cell_type": "markdown",
   "id": "df661209",
   "metadata": {},
   "source": [
    "Для начала использован самый простой бейзлайн — DummyClassifier(strategy=\"stratified\"), который делает предсказания пропорционально их частотам, примерно как в y_train.value_counts().\n",
    "Результат ожидаемо низкий: модель не учитывает признаки и служит лишь точкой отсчёта для последующих, более осмысленных моделей."
   ]
  },
  {
   "cell_type": "code",
   "execution_count": 314,
   "id": "1f920d9f",
   "metadata": {},
   "outputs": [],
   "source": [
    "numeric_preprocess = Pipeline(steps=[\n",
    "    (\"imputer\", SimpleImputer(strategy=\"median\")),\n",
    "    (\"scaler\", StandardScaler(with_mean=True, with_std=True)),\n",
    "])\n",
    "\n",
    "categorical_preprocess = Pipeline(steps=[\n",
    "    (\"imputer\", SimpleImputer(strategy=\"constant\", fill_value=\"Unknown\")),\n",
    "    (\"ohe\", OneHotEncoder(handle_unknown=\"ignore\", sparse_output=True)),\n",
    "])\n",
    "\n",
    "preprocess = ColumnTransformer(\n",
    "    transformers=[\n",
    "        (\"num\", numeric_preprocess, num_cols),\n",
    "        (\"cat\", categorical_preprocess, cat_cols),\n",
    "    ],\n",
    "    remainder=\"drop\",\n",
    ")"
   ]
  },
  {
   "cell_type": "markdown",
   "id": "e60458ad",
   "metadata": {},
   "source": [
    "Для числовых признаков использована медианная импутация, так как она устойчива к выбросам и сохраняет форму распределения данных лучше, чем среднее значение.\n",
    "Масштабирование через StandardScaler приводит признаки к одному масштабу , это важно для линейных моделей, которые я в бейзлайне использую. У нас есть данные разных масштабов.\n",
    "\n",
    "Для категориальных признаков выбран SimpleImputer(strategy=\"constant\", fill_value=\"Unknown\"), чтобы заменить пропуски на отдельную категорию и не терять информацию о пропуске. \n",
    "Кодирование выполняется с помощью OneHotEncoder, который создаёт независимые бинарные признаки без предположения о порядке между категориями.\n",
    "Так как категориальных признаков немного и число уникальных значений в них невелико, использование OHE не приведёт к чрезмерной разреженности матрицы.\n",
    "Параметр handle_unknown=\"ignore\" обеспечивает устойчивость при появлении новых категорий в тестовых данных.\n"
   ]
  },
  {
   "cell_type": "code",
   "execution_count": 315,
   "id": "f6a3e4b3",
   "metadata": {},
   "outputs": [
    {
     "name": "stdout",
     "output_type": "stream",
     "text": [
      "[LogReg (balanced)] macro-F1=0.1048 | accuracy=0.1239\n",
      "              precision    recall  f1-score   support\n",
      "\n",
      "           0      0.151     0.143     0.147        56\n",
      "           1      0.095     0.037     0.053        54\n",
      "           2      0.125     0.100     0.111        50\n",
      "           3      0.080     0.037     0.051        54\n",
      "           4      0.109     0.096     0.102        52\n",
      "           5      0.167     0.130     0.146        54\n",
      "           6      0.125     0.034     0.054        58\n",
      "           7      0.125     0.053     0.074        57\n",
      "           8      0.119     0.727     0.205        33\n",
      "\n",
      "    accuracy                          0.124       468\n",
      "   macro avg      0.122     0.151     0.105       468\n",
      "weighted avg      0.122     0.124     0.100       468\n",
      "\n"
     ]
    },
    {
     "name": "stderr",
     "output_type": "stream",
     "text": [
      "/Users/osincevmihail/Study/Maga/ML_course_1_sem/my_env_mlcourseitmo/lib/python3.13/site-packages/sklearn/linear_model/_logistic.py:1272: FutureWarning: 'multi_class' was deprecated in version 1.5 and will be removed in 1.8. From then on, it will always use 'multinomial'. Leave it to its default value to avoid this warning.\n",
      "  ),\n"
     ]
    }
   ],
   "source": [
    "logreg_pipe = Pipeline(steps=[\n",
    "    (\"prep\", preprocess),\n",
    "    (\"clf\", LogisticRegression(\n",
    "        multi_class=\"auto\",\n",
    "        class_weight=\"balanced\",\n",
    "        max_iter=1000,\n",
    "        random_state=RANDOM_STATE\n",
    "    )),\n",
    "])\n",
    "\n",
    "_ = evaluate(logreg_pipe, X_train, y_train, X_test, y_test, name=\"LogReg (balanced)\")"
   ]
  },
  {
   "cell_type": "markdown",
   "id": "2bec96bf",
   "metadata": {},
   "source": [
    "Логрег сиз коробки справился чуть лучше, чем дамми."
   ]
  },
  {
   "cell_type": "code",
   "execution_count": 316,
   "id": "427f64e9",
   "metadata": {},
   "outputs": [
    {
     "name": "stdout",
     "output_type": "stream",
     "text": [
      "[DecisionTree] macro-F1=0.0713 | accuracy=0.0812\n",
      "              precision    recall  f1-score   support\n",
      "\n",
      "           0      0.067     0.036     0.047        56\n",
      "           1      0.000     0.000     0.000        54\n",
      "           2      0.000     0.000     0.000        50\n",
      "           3      0.075     0.074     0.075        54\n",
      "           4      0.102     0.096     0.099        52\n",
      "           5      0.104     0.185     0.133        54\n",
      "           6      0.097     0.052     0.067        58\n",
      "           7      0.100     0.070     0.082        57\n",
      "           8      0.089     0.303     0.138        33\n",
      "\n",
      "    accuracy                          0.081       468\n",
      "   macro avg      0.070     0.091     0.071       468\n",
      "weighted avg      0.071     0.081     0.069       468\n",
      "\n"
     ]
    }
   ],
   "source": [
    "tree_pipe = Pipeline(steps=[\n",
    "    (\"prep\", preprocess),\n",
    "    (\"clf\", DecisionTreeClassifier(\n",
    "        max_depth=10,                # умеренная глубина для бейзлайна\n",
    "        min_samples_leaf=20,\n",
    "        class_weight=\"balanced\",\n",
    "        random_state=RANDOM_STATE\n",
    "    )),\n",
    "])\n",
    "\n",
    "_ = evaluate(tree_pipe, X_train, y_train, X_test, y_test, name=\"DecisionTree\")"
   ]
  },
  {
   "cell_type": "markdown",
   "id": "f0a83728",
   "metadata": {},
   "source": [
    "Дерево даже хуже, чем дамми"
   ]
  },
  {
   "cell_type": "code",
   "execution_count": 317,
   "id": "58c76b6d",
   "metadata": {},
   "outputs": [
    {
     "name": "stdout",
     "output_type": "stream",
     "text": [
      "[RandomForest] macro-F1=0.1194 | accuracy=0.1197\n",
      "              precision    recall  f1-score   support\n",
      "\n",
      "           0      0.115     0.125     0.120        56\n",
      "           1      0.109     0.093     0.100        54\n",
      "           2      0.069     0.080     0.074        50\n",
      "           3      0.127     0.130     0.128        54\n",
      "           4      0.132     0.135     0.133        52\n",
      "           5      0.148     0.148     0.148        54\n",
      "           6      0.157     0.138     0.147        58\n",
      "           7      0.111     0.105     0.108        57\n",
      "           8      0.111     0.121     0.116        33\n",
      "\n",
      "    accuracy                          0.120       468\n",
      "   macro avg      0.120     0.119     0.119       468\n",
      "weighted avg      0.121     0.120     0.120       468\n",
      "\n"
     ]
    }
   ],
   "source": [
    "from sklearn.ensemble import RandomForestClassifier\n",
    "\n",
    "rf_pipe = Pipeline([\n",
    "    (\"prep\", preprocess),\n",
    "    (\"clf\", RandomForestClassifier(\n",
    "        n_estimators=200,\n",
    "        class_weight=\"balanced\",\n",
    "        random_state=RANDOM_STATE,\n",
    "        n_jobs=-1\n",
    "    )),\n",
    "])\n",
    "_ = evaluate(rf_pipe, X_train, y_train, X_test, y_test, name=\"RandomForest\")"
   ]
  },
  {
   "cell_type": "code",
   "execution_count": 318,
   "id": "66934632",
   "metadata": {},
   "outputs": [
    {
     "name": "stdout",
     "output_type": "stream",
     "text": [
      "[KNN (k=25)] macro-F1=0.1450 | accuracy=0.1453\n",
      "              precision    recall  f1-score   support\n",
      "\n",
      "           0      0.103     0.107     0.105        56\n",
      "           1      0.207     0.222     0.214        54\n",
      "           2      0.146     0.140     0.143        50\n",
      "           3      0.107     0.111     0.109        54\n",
      "           4      0.106     0.096     0.101        52\n",
      "           5      0.191     0.167     0.178        54\n",
      "           6      0.136     0.138     0.137        58\n",
      "           7      0.169     0.175     0.172        57\n",
      "           8      0.139     0.152     0.145        33\n",
      "\n",
      "    accuracy                          0.145       468\n",
      "   macro avg      0.145     0.145     0.145       468\n",
      "weighted avg      0.145     0.145     0.145       468\n",
      "\n"
     ]
    }
   ],
   "source": [
    "knn_pipe = Pipeline(steps=[\n",
    "    (\"prep\", preprocess),\n",
    "    (\"clf\", KNeighborsClassifier(n_neighbors=25, weights=\"distance\")),\n",
    "])\n",
    "\n",
    "_ = evaluate(knn_pipe, X_train, y_train, X_test, y_test, name=\"KNN (k=25)\")"
   ]
  },
  {
   "cell_type": "markdown",
   "id": "c1a210e3",
   "metadata": {},
   "source": [
    "KNN побеждает по макро F1"
   ]
  },
  {
   "cell_type": "markdown",
   "id": "87aeb63d",
   "metadata": {},
   "source": [
    "### Теперь чуть усложним бейзлайн и добавим фичей"
   ]
  },
  {
   "cell_type": "code",
   "execution_count": 319,
   "id": "8edcfcc9",
   "metadata": {},
   "outputs": [],
   "source": [
    "rides = pd.read_csv(\"../data/raw/rides_info.csv\")\n",
    "df = pd.read_csv(\"../data/raw/car_train.csv\")"
   ]
  },
  {
   "cell_type": "code",
   "execution_count": 320,
   "id": "ce1b2127",
   "metadata": {},
   "outputs": [
    {
     "data": {
      "text/html": [
       "<div>\n",
       "<style scoped>\n",
       "    .dataframe tbody tr th:only-of-type {\n",
       "        vertical-align: middle;\n",
       "    }\n",
       "\n",
       "    .dataframe tbody tr th {\n",
       "        vertical-align: top;\n",
       "    }\n",
       "\n",
       "    .dataframe thead th {\n",
       "        text-align: right;\n",
       "    }\n",
       "</style>\n",
       "<table border=\"1\" class=\"dataframe\">\n",
       "  <thead>\n",
       "    <tr style=\"text-align: right;\">\n",
       "      <th></th>\n",
       "      <th>car_id</th>\n",
       "      <th>rating_mean</th>\n",
       "      <th>rating_median</th>\n",
       "      <th>rating_std</th>\n",
       "      <th>rating_min</th>\n",
       "      <th>rating_max</th>\n",
       "    </tr>\n",
       "  </thead>\n",
       "  <tbody>\n",
       "    <tr>\n",
       "      <th>0</th>\n",
       "      <td>A-1049127W</td>\n",
       "      <td>4.255172</td>\n",
       "      <td>4.280</td>\n",
       "      <td>2.291311</td>\n",
       "      <td>0.1</td>\n",
       "      <td>9.53</td>\n",
       "    </tr>\n",
       "    <tr>\n",
       "      <th>1</th>\n",
       "      <td>A-1079539w</td>\n",
       "      <td>4.088046</td>\n",
       "      <td>4.290</td>\n",
       "      <td>2.405445</td>\n",
       "      <td>0.1</td>\n",
       "      <td>9.81</td>\n",
       "    </tr>\n",
       "    <tr>\n",
       "      <th>2</th>\n",
       "      <td>A-1162143G</td>\n",
       "      <td>4.662299</td>\n",
       "      <td>4.685</td>\n",
       "      <td>1.643052</td>\n",
       "      <td>0.1</td>\n",
       "      <td>9.15</td>\n",
       "    </tr>\n",
       "    <tr>\n",
       "      <th>3</th>\n",
       "      <td>A-1228282M</td>\n",
       "      <td>4.225172</td>\n",
       "      <td>4.370</td>\n",
       "      <td>2.176662</td>\n",
       "      <td>0.1</td>\n",
       "      <td>9.36</td>\n",
       "    </tr>\n",
       "    <tr>\n",
       "      <th>4</th>\n",
       "      <td>A-1339912r</td>\n",
       "      <td>4.690115</td>\n",
       "      <td>4.680</td>\n",
       "      <td>1.834202</td>\n",
       "      <td>0.1</td>\n",
       "      <td>9.97</td>\n",
       "    </tr>\n",
       "  </tbody>\n",
       "</table>\n",
       "</div>"
      ],
      "text/plain": [
       "       car_id  rating_mean  rating_median  rating_std  rating_min  rating_max\n",
       "0  A-1049127W     4.255172          4.280    2.291311         0.1        9.53\n",
       "1  A-1079539w     4.088046          4.290    2.405445         0.1        9.81\n",
       "2  A-1162143G     4.662299          4.685    1.643052         0.1        9.15\n",
       "3  A-1228282M     4.225172          4.370    2.176662         0.1        9.36\n",
       "4  A-1339912r     4.690115          4.680    1.834202         0.1        9.97"
      ]
     },
     "execution_count": 320,
     "metadata": {},
     "output_type": "execute_result"
    }
   ],
   "source": [
    "ride_num_cols = [\n",
    "    \"rating\"\n",
    "]\n",
    "\n",
    "# ride_num_cols = [\n",
    "#     \"rating\", \"ride_duration\", \"ride_cost\",\n",
    "#     \"speed_avg\", \"speed_max\", \"stop_times\",\n",
    "#     \"distance\", \"user_ride_quality\", \"deviation_normal\"\n",
    "# ]\n",
    "\n",
    "rides[ride_num_cols] = rides[ride_num_cols].apply(pd.to_numeric, errors=\"coerce\")\n",
    "\n",
    "agg = (\n",
    "    rides\n",
    "    .groupby(\"car_id\")[ride_num_cols]\n",
    "    .agg([\"mean\", \"median\", \"std\", \"min\", \"max\"])\n",
    "    .reset_index()\n",
    ")\n",
    "\n",
    "agg.columns = [\"car_id\"] + [f\"{c}_{stat}\" for c, stat in agg.columns.tolist()[1:]]\n",
    "\n",
    "agg.head()"
   ]
  },
  {
   "cell_type": "code",
   "execution_count": null,
   "id": "b57ec4f1",
   "metadata": {},
   "outputs": [],
   "source": [
    "df_with_aggs = df.merge(agg, on=\"car_id\", how=\"inner\")"
   ]
  },
  {
   "cell_type": "code",
   "execution_count": 322,
   "id": "0243bd9c",
   "metadata": {},
   "outputs": [],
   "source": [
    "target_col = \"target_class\"       \n",
    "id_col = \"car_id\"   \n",
    "\n",
    "forbidden = [\"target_class\", \"target_reg\", \"car_id\"]  \n",
    "feature_cols = [c for c in df_with_aggs.columns if c not in forbidden]\n",
    "X = df_with_aggs[feature_cols].copy()\n",
    "y = df_with_aggs[\"target_class\"].astype(\"category\")\n",
    "\n",
    "num_cols = X.select_dtypes(include=[np.number]).columns.tolist()\n",
    "cat_cols = X.select_dtypes(include=[\"object\", \"category\"]).columns.tolist()"
   ]
  },
  {
   "cell_type": "code",
   "execution_count": 323,
   "id": "0f03e997",
   "metadata": {},
   "outputs": [],
   "source": [
    "numeric_preprocess = Pipeline(steps=[\n",
    "    (\"imputer\", SimpleImputer(strategy=\"median\")),\n",
    "    (\"scaler\", StandardScaler())\n",
    "])\n",
    "\n",
    "categorical_preprocess = Pipeline(steps=[\n",
    "    (\"imputer\", SimpleImputer(strategy=\"constant\", fill_value=\"Unknown\")),\n",
    "    (\"ohe\", OneHotEncoder(handle_unknown=\"ignore\", sparse_output=True)),\n",
    "])\n",
    "\n",
    "preprocess2 = ColumnTransformer(\n",
    "    transformers=[\n",
    "        (\"num\", numeric_preprocess, num_cols),\n",
    "        (\"cat\", categorical_preprocess, cat_cols),\n",
    "    ],\n",
    "    remainder=\"drop\",\n",
    ")\n",
    "\n",
    "logreg_pipe = Pipeline([\n",
    "    (\"prep\", preprocess2),\n",
    "    (\"clf\", LogisticRegression(\n",
    "        multi_class=\"auto\",\n",
    "        class_weight=\"balanced\",\n",
    "        max_iter=1000,\n",
    "        random_state=RANDOM_STATE\n",
    "    )),\n",
    "])\n",
    "\n",
    "tree_pipe = Pipeline([\n",
    "    (\"prep\", preprocess2),\n",
    "    (\"clf\", DecisionTreeClassifier(\n",
    "        max_depth=10, min_samples_leaf=20,\n",
    "        class_weight=\"balanced\",\n",
    "        random_state=RANDOM_STATE\n",
    "    )),\n",
    "])\n",
    "\n",
    "rf_pipe = Pipeline([\n",
    "    (\"prep\", preprocess2),\n",
    "    (\"clf\", RandomForestClassifier(\n",
    "        n_estimators=200,\n",
    "        class_weight=\"balanced\",\n",
    "        random_state=RANDOM_STATE,\n",
    "        n_jobs=-1\n",
    "    )),\n",
    "])\n",
    "\n",
    "knn_pipe = Pipeline([\n",
    "    (\"prep\", preprocess2),\n",
    "    (\"clf\", KNeighborsClassifier(n_neighbors=25, weights=\"distance\")),\n",
    "])"
   ]
  },
  {
   "cell_type": "code",
   "execution_count": 324,
   "id": "57f089d7",
   "metadata": {},
   "outputs": [],
   "source": [
    "X_train, X_test, y_train_raw, y_test_raw = train_test_split(\n",
    "    X, y, test_size=0.20, random_state=RANDOM_STATE, stratify=y\n",
    ")\n",
    "\n",
    "le = LabelEncoder()\n",
    "y_train = le.fit_transform(y_train_raw)\n",
    "y_test  = le.transform(y_test_raw)"
   ]
  },
  {
   "cell_type": "code",
   "execution_count": 325,
   "id": "a2797fcc",
   "metadata": {},
   "outputs": [
    {
     "data": {
      "image/png": "[encoded data removed]",
      "text/plain": [
       "<Figure size 800x1000 with 1 Axes>"
      ]
     },
     "metadata": {},
     "output_type": "display_data"
    }
   ],
   "source": [
    "train_dist = pd.Series(y_train).value_counts(normalize=True).sort_index()\n",
    "test_dist  = pd.Series(y_test).value_counts(normalize=True).sort_index()\n",
    "\n",
    "# Визуализируем\n",
    "plt.figure(figsize=(8, 10))\n",
    "\n",
    "sns.barplot(\n",
    "    y=train_dist.index.astype(str),\n",
    "    x=train_dist.values,\n",
    "    color='skyblue',\n",
    "    label='train'\n",
    ")\n",
    "\n",
    "sns.barplot(\n",
    "    y=test_dist.index.astype(str),\n",
    "    x=test_dist.values,\n",
    "    color='salmon',\n",
    "    alpha=0.7,\n",
    "    label='test'\n",
    ")\n",
    "\n",
    "plt.title(\"Class distribution (train vs test)\")\n",
    "plt.xlabel(\"Share\")\n",
    "plt.ylabel(\"Class\")\n",
    "plt.legend()\n",
    "plt.tight_layout()\n",
    "plt.show()"
   ]
  },
  {
   "cell_type": "code",
   "execution_count": 326,
   "id": "e615b130",
   "metadata": {},
   "outputs": [
    {
     "name": "stdout",
     "output_type": "stream",
     "text": [
      "[LogReg (balanced)] macro-F1=0.5391 | accuracy=0.5449\n",
      "              precision    recall  f1-score   support\n",
      "\n",
      "           0      0.739     0.607     0.667        56\n",
      "           1      1.000     1.000     1.000        54\n",
      "           2      0.980     1.000     0.990        50\n",
      "           3      0.375     0.167     0.231        54\n",
      "           4      0.255     0.250     0.252        52\n",
      "           5      0.270     0.315     0.291        54\n",
      "           6      0.353     0.310     0.330        58\n",
      "           7      0.537     0.632     0.581        57\n",
      "           8      0.393     0.727     0.511        33\n",
      "\n",
      "    accuracy                          0.545       468\n",
      "   macro avg      0.545     0.556     0.539       468\n",
      "weighted avg      0.548     0.545     0.537       468\n",
      "\n"
     ]
    },
    {
     "name": "stderr",
     "output_type": "stream",
     "text": [
      "/Users/osincevmihail/Study/Maga/ML_course_1_sem/my_env_mlcourseitmo/lib/python3.13/site-packages/sklearn/linear_model/_logistic.py:1272: FutureWarning: 'multi_class' was deprecated in version 1.5 and will be removed in 1.8. From then on, it will always use 'multinomial'. Leave it to its default value to avoid this warning.\n",
      "  ),\n"
     ]
    }
   ],
   "source": [
    "_ = evaluate(logreg_pipe, X_train, y_train, X_test, y_test, name=\"LogReg (balanced)\")"
   ]
  },
  {
   "cell_type": "code",
   "execution_count": 327,
   "id": "5ee440b3",
   "metadata": {},
   "outputs": [
    {
     "name": "stdout",
     "output_type": "stream",
     "text": [
      "[DecisionTree] macro-F1=0.5537 | accuracy=0.5491\n",
      "              precision    recall  f1-score   support\n",
      "\n",
      "           0      0.745     0.679     0.710        56\n",
      "           1      1.000     1.000     1.000        54\n",
      "           2      1.000     1.000     1.000        50\n",
      "           3      0.333     0.296     0.314        54\n",
      "           4      0.447     0.404     0.424        52\n",
      "           5      0.207     0.222     0.214        54\n",
      "           6      0.302     0.328     0.314        58\n",
      "           7      0.579     0.386     0.463        57\n",
      "           8      0.424     0.758     0.543        33\n",
      "\n",
      "    accuracy                          0.549       468\n",
      "   macro avg      0.560     0.564     0.554       468\n",
      "weighted avg      0.561     0.549     0.549       468\n",
      "\n"
     ]
    }
   ],
   "source": [
    "_ = evaluate(tree_pipe, X_train, y_train, X_test, y_test, name=\"DecisionTree\")"
   ]
  },
  {
   "cell_type": "code",
   "execution_count": 328,
   "id": "b280f451",
   "metadata": {},
   "outputs": [
    {
     "name": "stdout",
     "output_type": "stream",
     "text": [
      "[KNN (k=25)] macro-F1=0.4692 | accuracy=0.4786\n",
      "              precision    recall  f1-score   support\n",
      "\n",
      "           0      0.453     0.429     0.440        56\n",
      "           1      0.981     0.981     0.981        54\n",
      "           2      0.870     0.940     0.904        50\n",
      "           3      0.270     0.185     0.220        54\n",
      "           4      0.273     0.231     0.250        52\n",
      "           5      0.356     0.389     0.372        54\n",
      "           6      0.276     0.276     0.276        58\n",
      "           7      0.417     0.526     0.465        57\n",
      "           8      0.297     0.333     0.314        33\n",
      "\n",
      "    accuracy                          0.479       468\n",
      "   macro avg      0.466     0.477     0.469       468\n",
      "weighted avg      0.469     0.479     0.472       468\n",
      "\n"
     ]
    }
   ],
   "source": [
    "_ = evaluate(knn_pipe, X_train, y_train, X_test, y_test, name=\"KNN (k=25)\")"
   ]
  },
  {
   "cell_type": "code",
   "execution_count": 329,
   "id": "f3e52b53",
   "metadata": {},
   "outputs": [
    {
     "name": "stdout",
     "output_type": "stream",
     "text": [
      "[RandomForest (with aggs)] macro-F1=0.5406 | accuracy=0.5534\n",
      "              precision    recall  f1-score   support\n",
      "\n",
      "           0      0.661     0.732     0.695        56\n",
      "           1      1.000     1.000     1.000        54\n",
      "           2      0.980     1.000     0.990        50\n",
      "           3      0.389     0.259     0.311        54\n",
      "           4      0.278     0.192     0.227        52\n",
      "           5      0.317     0.370     0.342        54\n",
      "           6      0.303     0.345     0.323        58\n",
      "           7      0.500     0.684     0.578        57\n",
      "           8      0.500     0.333     0.400        33\n",
      "\n",
      "    accuracy                          0.553       468\n",
      "   macro avg      0.548     0.546     0.541       468\n",
      "weighted avg      0.545     0.553     0.543       468\n",
      "\n"
     ]
    }
   ],
   "source": [
    "_ = evaluate(rf_pipe, X_train, y_train, X_test, y_test, name=\"RandomForest (with aggs)\")"
   ]
  },
  {
   "cell_type": "markdown",
   "id": "b1904300",
   "metadata": {},
   "source": [
    "### Естественно метрики стали намного лучше"
   ]
  },
  {
   "cell_type": "code",
   "execution_count": null,
   "id": "8b889cdf",
   "metadata": {},
   "outputs": [],
   "source": []
  }
 ],
 "metadata": {
  "kernelspec": {
   "display_name": "Python (myenv)",
   "language": "python",
   "name": "my_env_mlcourseitmo"
  },
  "language_info": {
   "codemirror_mode": {
    "name": "ipython",
    "version": 3
   },
   "file_extension": ".py",
   "mimetype": "text/x-python",
   "name": "python",
   "nbconvert_exporter": "python",
   "pygments_lexer": "ipython3",
   "version": "3.13.7"
  }
 },
 "nbformat": 4,
 "nbformat_minor": 5
}
